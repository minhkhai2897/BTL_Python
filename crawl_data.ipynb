{
 "cells": [
  {
   "cell_type": "markdown",
   "id": "3112bcde",
   "metadata": {},
   "source": [
    "<img src=\"res/Manchester_United_F.C.-Logo.wine.png\"\n",
    "    style=\"width:400px; float: right; margin: 0 40px 40px 40px;\"></img>\n",
    "\n",
    "# 1. Thu thập dữ liệu\n",
    "\n",
    "Thu thập dữ liệu từ các bài viết của fanpage [Fan Manchester United in Viet Nam](https://www.facebook.com/ManUnitedVN1878)\n",
    "\n",
    "Bao gồm 500 bài viết từ 30/6/2023 đến 17/11/2023"
   ]
  },
  {
   "cell_type": "markdown",
   "id": "1464c51f",
   "metadata": {},
   "source": [
    "![purple-divider](res/purple.png)\n",
    "## Cài đặt"
   ]
  },
  {
   "cell_type": "code",
   "execution_count": null,
   "id": "db1d8e01",
   "metadata": {},
   "outputs": [],
   "source": [
    "%pip install facebook_scraper\n",
    "%pip install pandas"
   ]
  },
  {
   "cell_type": "markdown",
   "id": "3075fb85",
   "metadata": {},
   "source": [
    "![green-divider](res/green.png)\n",
    "## Nhập dữ liệu"
   ]
  },
  {
   "cell_type": "code",
   "execution_count": null,
   "id": "5d3fc043",
   "metadata": {},
   "outputs": [],
   "source": [
    "from facebook_scraper import get_posts, get_reactors\n",
    "import pandas as pd"
   ]
  },
  {
   "cell_type": "markdown",
   "id": "ca26decc",
   "metadata": {},
   "source": [
    "![green-divider](res/green.png)\n",
    "## Thu thập liên kết của các bài viết\n",
    "Chúng ta sẽ lấy từng bài viết theo link của chúng. Việc cần làm trước tiên là thu thập link của các bài viết.\n",
    "\n",
    "Tất cả các đường link sẽ được lưu vào file **posts.txt**"
   ]
  },
  {
   "cell_type": "code",
   "execution_count": 30,
   "id": "88ef6fae",
   "metadata": {},
   "outputs": [],
   "source": [
    "FANPAGE_LINK =\"ManUnitedVN1878?mibextid=ZbWKwL\"\n",
    "COOKIE_PATH = \"./cookies.txt\"\n",
    "\n",
    "PAGES_NUMBER = 50"
   ]
  },
  {
   "cell_type": "code",
   "execution_count": null,
   "id": "07486bda",
   "metadata": {},
   "outputs": [],
   "source": [
    "post_list = []\n",
    "for post in get_posts(FANPAGE_LINK,\n",
    "                    options={\"comments\": False, \"reactions\": False, \"allow_extra_requests\": False},\n",
    "                    extra_info=False, pages=PAGES_NUMBER, cookies=COOKIE_PATH):\n",
    "    print(post)\n",
    "    post_list.append(post)\n",
    "print(\"Done\")"
   ]
  },
  {
   "cell_type": "code",
   "execution_count": null,
   "id": "82701a5b",
   "metadata": {
    "scrolled": true
   },
   "outputs": [],
   "source": [
    "post_df_full = pd.DataFrame(columns=post_list[0].keys(), index=range(len(post_list)), data=post_list)\n",
    "post_df_full.head()"
   ]
  },
  {
   "cell_type": "code",
   "execution_count": null,
   "id": "f80329f2",
   "metadata": {},
   "outputs": [],
   "source": [
    "with open(\"data/posts.txt\", mode=\"w\") as file:\n",
    "    for post_id in post_df_full.post_id:\n",
    "        file.write(\"https://facebook.com/ManUnitedVN1878/posts/\" + post_id + \"\\n\")\n",
    "print(\"Done\")"
   ]
  },
  {
   "cell_type": "markdown",
   "id": "e70042cc",
   "metadata": {},
   "source": [
    "![green-divider](res/green.png)\n",
    "# Lấy dữ liệu từ những liên kết đã thu thập\n",
    "Lấy dữ liệu của từng bài viết theo link đã có ở file **posts.txt**.\n",
    "\n",
    "Thường thì sau khi thu được dữ liệu của khoảng 200 bài viết, facebook sẽ chặn ko cho chúng ta tiếp tục lấy dữ liệu.\n",
    "Cách xử lý là:\n",
    "- Thay facebook khác, lấy cookies mới bỏ vào file **cookies.txt**. \n",
    "- Chuyển sang địa chỉ ip mới. \n",
    "- Lưu những dữ liệu đã thu thập được vào 1 file tạm, sau đó tiếp tục thu thập dữ liệu từ những link chưa thu thập."
   ]
  },
  {
   "cell_type": "code",
   "execution_count": null,
   "id": "3fd1ae10",
   "metadata": {},
   "outputs": [],
   "source": [
    "POST = []\n",
    "with open(\"data/posts.txt\", \"r\") as file:\n",
    "    POSTS = file.read().split(\"\\n\")\n",
    "print(POSTS)\n",
    "    \n",
    "COOKIE_PATH = \"./cookies.txt\""
   ]
  },
  {
   "cell_type": "code",
   "execution_count": null,
   "id": "dd8e01f3",
   "metadata": {},
   "outputs": [],
   "source": [
    "post_list = []\n",
    "for post in get_posts(post_urls=POSTS,\n",
    "                    options={\"comments\": True, \"reactions\": True, \"allow_extra_requests\": True},\n",
    "                    cookies=COOKIE_PATH):\n",
    "    print(post)\n",
    "    post_list.append(post)\n",
    "print(\"Done\")"
   ]
  },
  {
   "cell_type": "markdown",
   "id": "d5d8182c",
   "metadata": {},
   "source": [
    "![green-divider](res/green.png)\n",
    "## Lưu dữ liệu\n",
    "Tất cả dữ liệu thô sẽ được lưu ở file **facebook_data_raw.csv**\n",
    "\n",
    "Trong trường hợp chưa thu thập đủ bài viết mà facebook đã bị chặn:\n",
    "- Sửa tên file này thành tên file tạm, sau đó lưu dữ liệu\n",
    "- Lọc bỏ những link bài viết đã thu thập dữ liệu ở file **posts.txt**\n",
    "- Quay trở lại bước lấy dữ liệu ở trên\n",
    "- Khi hoàn thành hãy hợp nhất các file dữ liệu thành file **facebook_data_raw.csv**"
   ]
  },
  {
   "cell_type": "code",
   "execution_count": null,
   "id": "62b6d410",
   "metadata": {},
   "outputs": [],
   "source": [
    "post_df_full = pd.DataFrame(columns=post_list[0].keys(), index=range(len(post_list)), data=post_list)\n",
    "post_df_full.head()"
   ]
  },
  {
   "cell_type": "code",
   "execution_count": null,
   "id": "99eaf2d9",
   "metadata": {},
   "outputs": [],
   "source": [
    "path = \"data/facebook_data_raw.csv\"\n",
    "post_df_full.to_csv(path, mode=\"w\", index=False)\n",
    "print(\"Done\")"
   ]
  },
  {
   "cell_type": "markdown",
   "id": "a1d1d4cd",
   "metadata": {},
   "source": [
    "![purple-divider](res/purple.png)"
   ]
  }
 ],
 "metadata": {
  "kernelspec": {
   "display_name": "Python 3 (ipykernel)",
   "language": "python",
   "name": "python3"
  },
  "language_info": {
   "codemirror_mode": {
    "name": "ipython",
    "version": 3
   },
   "file_extension": ".py",
   "mimetype": "text/x-python",
   "name": "python",
   "nbconvert_exporter": "python",
   "pygments_lexer": "ipython3",
   "version": "3.11.5"
  }
 },
 "nbformat": 4,
 "nbformat_minor": 5
}
